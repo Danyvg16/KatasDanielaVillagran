{
 "cells": [
  {
   "cell_type": "code",
   "execution_count": 9,
   "metadata": {},
   "outputs": [
    {
     "name": "stdout",
     "output_type": "stream",
     "text": [
      "El asteroide va a una velocidad que no es peligrosa\n"
     ]
    }
   ],
   "source": [
    "a = 2\n",
    "if a > 25:\n",
    "    print('Alerta, avisen a la tripulacion el asteroide se acerca!!')\n",
    "else:\n",
    "    print('El asteroide va a una velocidad que no es peligrosa')\n",
    "    "
   ]
  },
  {
   "cell_type": "code",
   "execution_count": 10,
   "metadata": {},
   "outputs": [
    {
     "name": "stdout",
     "output_type": "stream",
     "text": [
      "No hay nada aqui\n"
     ]
    }
   ],
   "source": [
    "a = 19\n",
    "if a > 20:\n",
    "    print('Mira un asteroide se ve desde la tierra!')\n",
    "elif a == 20:\n",
    "    print('Mira un asteroide se ve desde la tierra!')\n",
    "else:\n",
    "    print('No hay nada aqui')"
   ]
  },
  {
   "cell_type": "code",
   "execution_count": 11,
   "metadata": {},
   "outputs": [
    {
     "name": "stdout",
     "output_type": "stream",
     "text": [
      "Una asteroide se ve desde la Tierra\n"
     ]
    }
   ],
   "source": [
    "a = 25\n",
    "b = 40\n",
    "if a > 25 and b > 25:\n",
    "    print('Un asteroide se acerca a la Tierra!!')\n",
    "elif a >= 20:\n",
    "    print('Una asteroide se ve desde la Tierra')\n",
    "elif b < 25:\n",
    "    print('No hay nada aqui')\n",
    "else:\n",
    "    print('No hay nada aqui')"
   ]
  }
 ],
 "metadata": {
  "interpreter": {
   "hash": "1a29850a7505c16fc630abbfb0485261022c6bb225280de94c6940b7f4a270dc"
  },
  "kernelspec": {
   "display_name": "Python 3.10.2 64-bit",
   "language": "python",
   "name": "python3"
  },
  "language_info": {
   "codemirror_mode": {
    "name": "ipython",
    "version": 3
   },
   "file_extension": ".py",
   "mimetype": "text/x-python",
   "name": "python",
   "nbconvert_exporter": "python",
   "pygments_lexer": "ipython3",
   "version": "3.10.2"
  },
  "orig_nbformat": 4
 },
 "nbformat": 4,
 "nbformat_minor": 2
}
