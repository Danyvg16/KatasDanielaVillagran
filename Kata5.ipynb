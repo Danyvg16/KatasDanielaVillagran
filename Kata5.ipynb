{
 "cells": [
  {
   "cell_type": "code",
   "execution_count": null,
   "metadata": {},
   "outputs": [],
   "source": []
  },
  {
   "cell_type": "markdown",
   "metadata": {},
   "source": [
    "# Ejercicio1 - Utilizar operadores aritméticos"
   ]
  },
  {
   "cell_type": "code",
   "execution_count": 1,
   "metadata": {},
   "outputs": [],
   "source": [
    "tierra = 149597870\n",
    "jupiter = 778547200"
   ]
  },
  {
   "cell_type": "code",
   "execution_count": 2,
   "metadata": {},
   "outputs": [
    {
     "name": "stdout",
     "output_type": "stream",
     "text": [
      "628949330\n",
      "390577533.93\n"
     ]
    }
   ],
   "source": [
    "distancia_km = jupiter - tierra\n",
    "print(distancia_km)\n",
    "\n",
    "distancia = distancia_km * 0.621\n",
    "print(distancia)"
   ]
  },
  {
   "cell_type": "markdown",
   "metadata": {},
   "source": [
    "# Ejercicio 2: convierte cadenas en números y usa valores absolutos"
   ]
  },
  {
   "cell_type": "code",
   "execution_count": 5,
   "metadata": {},
   "outputs": [
    {
     "name": "stdout",
     "output_type": "stream",
     "text": [
      "3\n",
      "1.863\n"
     ]
    }
   ],
   "source": [
    "tierra = input('Introduzca la distancia del sol para la tierra planeta en KM')\n",
    "jupiter = input('Introduzca la distancia desde el sol para eljupiter en KM')\n",
    "\n",
    "tierra = int(tierra)\n",
    "jupiter = int(jupiter)\n",
    "\n",
    "distancia_km = jupiter - tierra\n",
    "print(distancia_km)\n",
    "\n",
    "conversion_distancia = distancia_km * 0.621\n",
    "print(abs(conversion_distancia))"
   ]
  }
 ],
 "metadata": {
  "interpreter": {
   "hash": "1a29850a7505c16fc630abbfb0485261022c6bb225280de94c6940b7f4a270dc"
  },
  "kernelspec": {
   "display_name": "Python 3.10.2 64-bit",
   "language": "python",
   "name": "python3"
  },
  "language_info": {
   "codemirror_mode": {
    "name": "ipython",
    "version": 3
   },
   "file_extension": ".py",
   "mimetype": "text/x-python",
   "name": "python",
   "nbconvert_exporter": "python",
   "pygments_lexer": "ipython3",
   "version": "3.10.2"
  },
  "orig_nbformat": 4
 },
 "nbformat": 4,
 "nbformat_minor": 2
}
